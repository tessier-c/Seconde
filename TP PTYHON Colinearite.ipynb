{
 "cells": [
  {
   "cell_type": "markdown",
   "metadata": {
    "collapsed": true
   },
   "source": [
    "# Introduction des fonction en Python"
   ]
  },
  {
   "cell_type": "markdown",
   "metadata": {},
   "source": [
    "## **Création d'un code**\n",
    "\n",
    "Programme n°1 : objectif de déterminer les coordonnées d'un vecteurs à partir des coordonnées de ses extrémités.\n",
    "\n",
    "__1ère étape__ : les entrées\n",
    "\n",
    "Les entrées d'un programme sont les éléments qui doivent être connus pour l'exécution d'un programme.\n",
    "\n",
    "Exécutez les deux lignes de code ci-dessous en cliquant sur le bouton run."
   ]
  },
  {
   "cell_type": "code",
   "execution_count": null,
   "metadata": {},
   "outputs": [],
   "source": [
    "xA=int(input(\"Saisir l'abcisse de A : \"))\n",
    "yA=int(input(\"Saisir l'ordonnée de A : \"))"
   ]
  },
  {
   "cell_type": "markdown",
   "metadata": {},
   "source": [
    "Il nous faut maintenant les coordonnées du point B. Coder si-dessous la saisi des coordonnées de B (Vous pouvez utilisez le copier coller et adapter les lignes).\n",
    "\n",
    "Exécutez les lignes deux nouvelles lignes de code."
   ]
  },
  {
   "cell_type": "code",
   "execution_count": null,
   "metadata": {},
   "outputs": [],
   "source": [
    "xB=int(input(\"Saisir l'abcisse de B : \"))\n",
    "yB=int(input(\"Saisir l'ordonnée de B : \"))"
   ]
  },
  {
   "cell_type": "markdown",
   "metadata": {},
   "source": [
    "__2ème étape__ : le corps du programme\n",
    "\n",
    "Le corps du programme contient les lignes de codes qui permettent d'atteindre les objectifs du programme. Ici calculer les coordonnées du vecteur $\\vec{AB}$"
   ]
  },
  {
   "cell_type": "code",
   "execution_count": null,
   "metadata": {},
   "outputs": [],
   "source": [
    "xAB=xB-xA\n",
    "yAB=yB-yA"
   ]
  },
  {
   "cell_type": "markdown",
   "metadata": {},
   "source": [
    "__3ème étape__ : Sortie, affichage du programme.\n",
    "\n",
    "Il faut maintenant permettre à l'utilisateur de \"voir\" le résultat du programme."
   ]
  },
  {
   "cell_type": "code",
   "execution_count": null,
   "metadata": {},
   "outputs": [],
   "source": [
    "print(\"vec(AB) (\",xAB,\";\",yAB,\")\")"
   ]
  },
  {
   "cell_type": "markdown",
   "metadata": {},
   "source": [
    "**A vous de jouer**\n",
    "En copiant et collant les lignes de code nécessaire, créer un petit programme qui calcul les coordonnées d'un vecteur.\n",
    "\n",
    "## **Création d'une fonction**\n",
    "La structure pour créer une fonction est la suivante :\n",
    "\n",
    "```python\n",
    "def nom_fonction(liste de paramètres):\n",
    "      bloc d'instructions\n",
    "      return (sortie)\n",
    "```"
   ]
  },
  {
   "cell_type": "code",
   "execution_count": null,
   "metadata": {},
   "outputs": [],
   "source": [
    "def abcisse_vecteur(xA,yA,xB,yB):\n",
    "    return(xB-xA)\n",
    "\n",
    "def ordonnee_vecteur(xA,yA,xB,yB):\n",
    "    return(yB-yA)"
   ]
  },
  {
   "cell_type": "markdown",
   "metadata": {},
   "source": [
    "Saisi des coordonnées des points"
   ]
  },
  {
   "cell_type": "code",
   "execution_count": null,
   "metadata": {},
   "outputs": [],
   "source": [
    "xA=int(input(\"Saisir l'abcisse de A : \"))\n",
    "yA=int(input(\"Saisir l'ordonnée de A : \"))\n",
    "\n",
    "xB=int(input(\"Saisir l'abcisse de B : \"))\n",
    "yB=int(input(\"Saisir l'ordonnée de B : \"))\n",
    "\n",
    "\n",
    "xAB=abcisse_vecteur(xA,yA,xB,yB)\n",
    "yAB=ordonnee_vecteur(xA,yA,xB,yB)"
   ]
  },
  {
   "cell_type": "code",
   "execution_count": null,
   "metadata": {},
   "outputs": [],
   "source": [
    "f\"vec(AB) ({xAB};{yAB})\""
   ]
  },
  {
   "cell_type": "code",
   "execution_count": null,
   "metadata": {},
   "outputs": [],
   "source": []
  },
  {
   "cell_type": "code",
   "execution_count": null,
   "metadata": {},
   "outputs": [],
   "source": []
  }
 ],
 "metadata": {
  "kernelspec": {
   "display_name": "Python 3",
   "language": "python",
   "name": "python3"
  },
  "language_info": {
   "codemirror_mode": {
    "name": "ipython",
    "version": 3
   },
   "file_extension": ".py",
   "mimetype": "text/x-python",
   "name": "python",
   "nbconvert_exporter": "python",
   "pygments_lexer": "ipython3",
   "version": "3.7.4"
  }
 },
 "nbformat": 4,
 "nbformat_minor": 2
}
